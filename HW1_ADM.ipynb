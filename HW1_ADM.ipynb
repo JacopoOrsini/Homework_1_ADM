{
 "cells": [
  {
   "cell_type": "code",
   "execution_count": null,
   "id": "0535a13f",
   "metadata": {},
   "outputs": [],
   "source": [
    "#Homework1_ADM"
   ]
  },
  {
   "cell_type": "code",
   "execution_count": null,
   "id": "d421c2c8",
   "metadata": {},
   "outputs": [],
   "source": [
    "#Problem1"
   ]
  },
  {
   "cell_type": "code",
   "execution_count": null,
   "id": "475eee85",
   "metadata": {},
   "outputs": [],
   "source": [
    "#Intrduction"
   ]
  },
  {
   "cell_type": "code",
   "execution_count": null,
   "id": "2a222d87",
   "metadata": {},
   "outputs": [],
   "source": [
    "#Exercise1: Say \"Hello, World!\" With Python\n",
    "print(\"Hello, World!\")"
   ]
  },
  {
   "cell_type": "code",
   "execution_count": null,
   "id": "2446c2d9",
   "metadata": {},
   "outputs": [],
   "source": [
    "#Exercise2: Python If-Else\n",
    "import math\n",
    "import os\n",
    "import random\n",
    "import re\n",
    "import sys\n",
    "if __name__ == '__main__':\n",
    "    n = int(input().strip())\n",
    "    if n%2 != 0:\n",
    "        print (\"Weird\")\n",
    "    else:\n",
    "        if n >= 2 and  n <=5:\n",
    "            print(\"Not Weird\")\n",
    "        elif n >= 6 and n <= 20:\n",
    "            print(\"Weird\")\n",
    "        else:\n",
    "            print(\"Not Weird\")"
   ]
  },
  {
   "cell_type": "code",
   "execution_count": null,
   "id": "3a8f1f40",
   "metadata": {},
   "outputs": [],
   "source": [
    "#Exercise3: Arithmetic Operators\n",
    "if __name__ == '__main__':\n",
    "    a = int(input())\n",
    "    b = int(input())\n",
    "    print(a+b)\n",
    "    print(a-b)\n",
    "    print(a*b)"
   ]
  },
  {
   "cell_type": "code",
   "execution_count": null,
   "id": "744fabe1",
   "metadata": {},
   "outputs": [],
   "source": [
    "#Exercise4: Python: Division\n",
    "if __name__ == '__main__':\n",
    "    a = int(input())\n",
    "    b = int(input())\n",
    "    print(a//b)\n",
    "    print(a/b)"
   ]
  },
  {
   "cell_type": "code",
   "execution_count": null,
   "id": "7b6636b3",
   "metadata": {},
   "outputs": [],
   "source": [
    "#Exercise5: Loops\n",
    "if __name__ == '__main__':\n",
    "    n = int(input())\n",
    "    for i in range (0,n):\n",
    "        print(i**2)"
   ]
  },
  {
   "cell_type": "code",
   "execution_count": null,
   "id": "ac3e0f8d",
   "metadata": {},
   "outputs": [],
   "source": [
    "#Exercise6: Write a function\n",
    "def is_leap(year):\n",
    "    leap = False\n",
    "    if (year % 4) == 0:\n",
    "        if (year % 100) == 0:\n",
    "            if (year % 400) == 0:\n",
    "                leap = True\n",
    "            else:\n",
    "                leap = False\n",
    "        else:\n",
    "            leap = True\n",
    "    else:\n",
    "        leap = False\n",
    "    # Write your logic here\n",
    "    return leap\n",
    "year = int(input())\n",
    "print(is_leap(year))"
   ]
  },
  {
   "cell_type": "code",
   "execution_count": null,
   "id": "d7db6462",
   "metadata": {},
   "outputs": [],
   "source": [
    "#Exercise7: Print Function\n",
    "if __name__ == '__main__':\n",
    "    n = int(input())\n",
    "    for i in range(1, n+1):\n",
    "        print(i, end='')"
   ]
  },
  {
   "cell_type": "code",
   "execution_count": null,
   "id": "a410297c",
   "metadata": {},
   "outputs": [],
   "source": [
    "#Data types"
   ]
  },
  {
   "cell_type": "code",
   "execution_count": null,
   "id": "a22b7fe9",
   "metadata": {},
   "outputs": [],
   "source": [
    "#Exercise1: List Comprehensions\n",
    "if __name__ == '__main__':\n",
    "    x = int(input())\n",
    "    y = int(input())\n",
    "    z = int(input())\n",
    "    n = int(input())\n",
    "    c_c = [[i, j, k]\n",
    "    for i in range (x+1)\n",
    "    for j in range (y+1)\n",
    "    for k in range (z+1)\n",
    "    if i + j + k !=n ]\n",
    "    print(c_c)"
   ]
  },
  {
   "cell_type": "code",
   "execution_count": null,
   "id": "614bd036",
   "metadata": {},
   "outputs": [],
   "source": [
    "#Exercise2: Find the Runner-Up Score!\n",
    "if __name__ == '__main__':\n",
    "    n = int(input())\n",
    "    arr = map(int, input().split())\n",
    "    arr = list(set(arr))\n",
    "    arr.remove(max(arr))\n",
    "    print(max(arr))"
   ]
  },
  {
   "cell_type": "code",
   "execution_count": null,
   "id": "5da68f83",
   "metadata": {},
   "outputs": [],
   "source": [
    "#Exercise3: Nested Lists\n",
    "if __name__ == '__main__':\n",
    "    r = []\n",
    "    for _ in range(int(input())):\n",
    "        name = input()\n",
    "        score = float(input())\n",
    "        r.append([name, score])\n",
    "    voti = []\n",
    "    for i in range(len(r)):\n",
    "        voti.append(r[i][1])\n",
    "    voti = list(set(voti))\n",
    "    voti.sort()\n",
    "    min_2 = voti[1]\n",
    "    lista_nomi = []\n",
    "    for j in range(len(r)):\n",
    "        if r[j][1] == min_2:\n",
    "            lista_nomi.append(r[j][0])\n",
    "    lista_nomi.sort()\n",
    "    for name in lista_nomi:\n",
    "        print(name)  "
   ]
  },
  {
   "cell_type": "code",
   "execution_count": null,
   "id": "13bf0340",
   "metadata": {},
   "outputs": [],
   "source": [
    "#Exercise4: Finding the percentage\n",
    "if __name__ == '__main__':\n",
    "    n = int(input())\n",
    "    student_marks = {}\n",
    "    for _ in range(n):\n",
    "        name, *line = input().split()\n",
    "        scores = list(map(float, line))\n",
    "        student_marks[name] = scores\n",
    "    query_name = input()\n",
    "    a = student_marks[query_name]\n",
    "    average = (sum(a)/len(a))\n",
    "    average_2 = \"{:.2f}\".format(average)\n",
    "    print(average_2)"
   ]
  },
  {
   "cell_type": "code",
   "execution_count": null,
   "id": "a4f4e66a",
   "metadata": {},
   "outputs": [],
   "source": [
    "#Exercise5: Lists\n",
    "if __name__ == '__main__':\n",
    "    N = int(input())\n",
    "    lista = []\n",
    "    for i in range(N):\n",
    "        i = input()\n",
    "        a = i.split()\n",
    "        if a[0] == 'insert':\n",
    "            lista.insert(int(a[1]),int(a[2]))\n",
    "        elif a[0] == 'print':\n",
    "            print(lista)\n",
    "        elif a[0] == 'remove':\n",
    "            lista.remove(int(a[1]))\n",
    "        elif a[0] == 'append':\n",
    "            lista.append(int(a[1]))\n",
    "        elif a[0] == 'sort':\n",
    "            lista.sort()\n",
    "        elif a[0] == 'pop':\n",
    "            lista.pop()\n",
    "        elif a[0] == 'reverse':\n",
    "            lista.reverse()"
   ]
  },
  {
   "cell_type": "code",
   "execution_count": null,
   "id": "6a50d1ee",
   "metadata": {},
   "outputs": [],
   "source": [
    "#Exercise6: Tuples\n",
    "if __name__ == '__main__':\n",
    "    n = int(input())\n",
    "    integer_list = map(int, input().split())\n",
    "    t = tuple(integer_list)\n",
    "    print(hash(t)"
   ]
  },
  {
   "cell_type": "code",
   "execution_count": null,
   "id": "4f4a5d2a",
   "metadata": {},
   "outputs": [],
   "source": [
    "#Strings"
   ]
  },
  {
   "cell_type": "code",
   "execution_count": null,
   "id": "ba1cbb5f",
   "metadata": {},
   "outputs": [],
   "source": [
    "#Exercise1: sWap cASE\n",
    "def swap_case(s):\n",
    "    txt = s\n",
    "    x = txt.swapcase()\n",
    "    return(x)\n",
    "if __name__ == '__main__':\n",
    "    s = input()\n",
    "    result = swap_case(s)\n",
    "    print(result)"
   ]
  },
  {
   "cell_type": "code",
   "execution_count": null,
   "id": "4419a126",
   "metadata": {},
   "outputs": [],
   "source": [
    "#Exercise2: String Split and Join\n",
    "def split_and_join(line):\n",
    "    line = line.split(\" \")\n",
    "    line = \"-\".join(line)\n",
    "    return line\n",
    "if __name__ == '__main__':\n",
    "    line = input()\n",
    "    result = split_and_join(line)\n",
    "    print(result)"
   ]
  },
  {
   "cell_type": "code",
   "execution_count": null,
   "id": "362a70b0",
   "metadata": {},
   "outputs": [],
   "source": [
    "#Exercise3: What's Your Name?\n",
    "def print_full_name(first, last):\n",
    "    print(\"Hello {} {}! You just delved into python.\".format(first,last))\n",
    "if __name__ == '__main__':\n",
    "    first_name = input()\n",
    "    last_name = input()\n",
    "    print_full_name(first_name, last_name)"
   ]
  },
  {
   "cell_type": "code",
   "execution_count": null,
   "id": "e7b3389c",
   "metadata": {},
   "outputs": [],
   "source": [
    "#Exercise4: Mutations\n",
    "def mutate_string(string, position, character):\n",
    "    string = string[:position] + character + string[position+1:]\n",
    "    return(string)\n",
    "if __name__ == '__main__':\n",
    "    s = input()\n",
    "    i, c = input().split()\n",
    "    s_new = mutate_string(s, int(i), c)\n",
    "    print(s_new)"
   ]
  },
  {
   "cell_type": "code",
   "execution_count": null,
   "id": "4813d583",
   "metadata": {},
   "outputs": [],
   "source": [
    "#Exercise5: Find a string\n",
    "def count_substring(string, sub_string):\n",
    "    count = 0\n",
    "    for i in range(len(string)):\n",
    "        if string[i:i + len(sub_string)] == sub_string:\n",
    "            count += 1\n",
    "    return (count)\n",
    "if __name__ == '__main__':\n",
    "    string = input().strip()\n",
    "    sub_string = input().strip()\n",
    "    count = count_substring(string, sub_string)\n",
    "    print(count)"
   ]
  },
  {
   "cell_type": "code",
   "execution_count": null,
   "id": "25f90fd2",
   "metadata": {},
   "outputs": [],
   "source": [
    "#Exercise6: String Validators\n",
    "if __name__ == '__main__':\n",
    "    s = input()    \n",
    "string = list(s)\n",
    "an = False\n",
    "a = False\n",
    "d = False\n",
    "l = False\n",
    "u = False\n",
    "for i in string:\n",
    "    an = an or i.isalnum()\n",
    "    a = a or i.isalpha()\n",
    "    d = d or i.isdigit()\n",
    "    l = l or i.islower()\n",
    "    u = u or i.isupper()\n",
    "print(an)\n",
    "print(a)\n",
    "print(d)\n",
    "print(l)\n",
    "print(u)"
   ]
  },
  {
   "cell_type": "code",
   "execution_count": null,
   "id": "2feb8419",
   "metadata": {},
   "outputs": [],
   "source": [
    "#Exercise7: Text Alignment (the solutions has been seen online)\n",
    "t = int(input())\n",
    "assert t % 2 == 1\n",
    "total_width = t *6\n",
    "letter = 'H'\n",
    "def top(aligned_left: bool = False, pointing_down: bool = False):\n",
    "    width= t * 2 - 1\n",
    "    layer_gen = range(t)\n",
    "    align = '>' if aligned_left else '<'\n",
    "    if pointing_down:\n",
    "        layer_gen = reversed(layer_gen)\n",
    "    for layer in layer_gen:\n",
    "        unaligned_layer = f\"{letter * (1 + layer * 2): ^{width}}\"\n",
    "        print(f\"{unaligned_layer:{align}{total_width -1}}\")\n",
    "def middle():\n",
    "    for layer in range(t + 1):\n",
    "        print(f\"{letter*t: ^{t*2}}{letter *t:^{total_width}}\")\n",
    "def belt():\n",
    "    for i in range((t+1)//2):\n",
    "        print(f\"{letter*t*5:^{total_width}}\")\n",
    "top()\n",
    "middle()\n",
    "belt()\n",
    "middle()\n",
    "top(aligned_left=True, pointing_down=True)"
   ]
  },
  {
   "cell_type": "code",
   "execution_count": null,
   "id": "403fa548",
   "metadata": {},
   "outputs": [],
   "source": [
    "#Exercise8: Text Wrap\n",
    "import textwrap\n",
    "def wrap(string, max_width):\n",
    "    return\n",
    "string = str(input())\n",
    "max_width=int(input())\n",
    "print(textwrap.fill(string, max_width))\n",
    "if __name__ == '__main__':\n",
    "    string, max_width = input(), int(input())\n",
    "    result = wrap(string, max_width)\n",
    "    print(result)"
   ]
  },
  {
   "cell_type": "code",
   "execution_count": null,
   "id": "99b4a59f",
   "metadata": {},
   "outputs": [],
   "source": [
    "#Exercise9: String Formatting\n",
    "def print_formatted(number):\n",
    "    # your code goes here\n",
    "    binary = format(number, 'b')\n",
    "    size = len(binary)\n",
    "    for i in range(1, n+1):\n",
    "        oc = format(i, 'o')\n",
    "        he = format(i, 'X')\n",
    "        bi = format(i, 'b')\n",
    "        print(str(i).rjust(size), str(oc).rjust(size), str(he).rjust(size), str(bi).rjust(size))\n",
    "if __name__ == '__main__':\n",
    "    n = int(input())\n",
    "    print_formatted(n)"
   ]
  },
  {
   "cell_type": "code",
   "execution_count": null,
   "id": "c07c1b39",
   "metadata": {},
   "outputs": [],
   "source": [
    "#Exercise10: Alphabet Ragnoli not done"
   ]
  },
  {
   "cell_type": "code",
   "execution_count": null,
   "id": "4a6e5eea",
   "metadata": {},
   "outputs": [],
   "source": [
    "#Exercise11: Capitalize!\n",
    "def solve(s):\n",
    "    x=\"\"\n",
    "    l = s.split(\" \")\n",
    "    for i in l:\n",
    "        if i.isdigit():\n",
    "            x += i + \" \"\n",
    "        else:\n",
    "            x += i.capitalize() + \" \"\n",
    "    return x.strip()\n",
    "if __name__ == '__main__':\n",
    "    fptr = open(os.environ['OUTPUT_PATH'], 'w')\n",
    "    s = input()\n",
    "    result = solve(s)\n",
    "    fptr.write(result + '\\n')\n",
    "    fptr.close()"
   ]
  },
  {
   "cell_type": "code",
   "execution_count": null,
   "id": "4b829113",
   "metadata": {},
   "outputs": [],
   "source": [
    "#Exercise12:The Minion Game not done"
   ]
  },
  {
   "cell_type": "code",
   "execution_count": null,
   "id": "6663e210",
   "metadata": {},
   "outputs": [],
   "source": [
    "#Exercise13: Merge the Tools! not done"
   ]
  },
  {
   "cell_type": "code",
   "execution_count": null,
   "id": "80848b71",
   "metadata": {},
   "outputs": [],
   "source": [
    "#Exercise14: Designer Door Mat not done"
   ]
  },
  {
   "cell_type": "code",
   "execution_count": null,
   "id": "cef0531a",
   "metadata": {},
   "outputs": [],
   "source": [
    "#Sets"
   ]
  },
  {
   "cell_type": "code",
   "execution_count": null,
   "id": "246d40bd",
   "metadata": {},
   "outputs": [],
   "source": [
    "#Exercise1: Introduction to sets\n",
    "def average(array):\n",
    "    return sum(set(array))/len(set(array))\n",
    "if __name__ == '__main__':\n",
    "    n = int(input())\n",
    "    arr = list(map(int, input().split()))\n",
    "    result = average(arr)\n",
    "    print(result)"
   ]
  },
  {
   "cell_type": "code",
   "execution_count": null,
   "id": "4a927689",
   "metadata": {},
   "outputs": [],
   "source": [
    "#Exercise2: Symmertic Difference\n",
    "m = int(input())\n",
    "set_1 = set(list(map(int, input().split())))\n",
    "n = int(input())\n",
    "set_2 = set(list(map(int, input().split())))\n",
    "n1 = set_1.difference(set_2)\n",
    "n2 = set_2.difference(set_1)\n",
    "X = [str(x) for x in n1] + [str(x) for x in n2]\n",
    "X.sort(key = int)\n",
    "print('\\n'.join(X))"
   ]
  },
  {
   "cell_type": "code",
   "execution_count": null,
   "id": "41cfb9d5",
   "metadata": {},
   "outputs": [],
   "source": [
    "#Exercise3: Set.add()\n",
    "set_1 = set()\n",
    "n = int(input())\n",
    "for i in range (n):\n",
    "    set_1.add(input())\n",
    "print(len(set_1))"
   ]
  },
  {
   "cell_type": "code",
   "execution_count": null,
   "id": "1910517e",
   "metadata": {},
   "outputs": [],
   "source": [
    "#Exercise4: Set.discard(), .remove() e .pop() (the solution has been checked online)\n",
    "n = int(input())\n",
    "l = [int(j) for j in input().strip().split()]\n",
    "l.reverse()\n",
    "s = set(l)\n",
    "n1 = int(input())\n",
    "for i in range (n1):\n",
    "    c = input().strip().split()\n",
    "    if len(c) == 1:\n",
    "        mtc = getattr(s, c[0])\n",
    "        mtc()\n",
    "    else:\n",
    "        c, *args = [c[0], int(c[1])]\n",
    "        getattr(s, c)(*args)\n",
    "print(sum(s))"
   ]
  },
  {
   "cell_type": "code",
   "execution_count": null,
   "id": "8f6a5569",
   "metadata": {},
   "outputs": [],
   "source": [
    "#Exercise5: Set.union() Operation\n",
    "x1 = int(input())\n",
    "y1 = list(input().split())\n",
    "x2 = int(input())\n",
    "y2 = list(input().split())\n",
    "z1 = set(y1)\n",
    "z2 = set(y2)\n",
    "print(len(z1.union(z2)))"
   ]
  },
  {
   "cell_type": "code",
   "execution_count": null,
   "id": "b3ae7ee6",
   "metadata": {},
   "outputs": [],
   "source": [
    "#Exercise6: Set.intersection() Operation\n",
    "n = int(input())\n",
    "set_1 = set(list(map(int, input().split())))\n",
    "m = int(input())\n",
    "set_2 = set(list(map(int, input().split())))\n",
    "n1 = set_1.intersection(set_2)\n",
    "print(len(n1))"
   ]
  },
  {
   "cell_type": "code",
   "execution_count": null,
   "id": "a36ee934",
   "metadata": {},
   "outputs": [],
   "source": [
    "#Exercise7: Set.difference() Operation\n",
    "n = int(input())\n",
    "set_1 = set(map(int, input().split()))\n",
    "m = int(input())\n",
    "set_2 = set(map(int, input().split()))\n",
    "n1 = set_1.difference(set_2)\n",
    "print(len(n1))"
   ]
  },
  {
   "cell_type": "code",
   "execution_count": null,
   "id": "53fc364d",
   "metadata": {},
   "outputs": [],
   "source": [
    "#Exercise8: Set.symmetric_difference() Operation\n",
    "n = int(input())\n",
    "set_1 = set(map(int, input().split()))\n",
    "m = int(input())\n",
    "set_2 = set(map(int, input().split()))\n",
    "n1 = set_1.difference(set_2)\n",
    "print(len(n1))"
   ]
  },
  {
   "cell_type": "code",
   "execution_count": null,
   "id": "a8737fb9",
   "metadata": {},
   "outputs": [],
   "source": [
    "#Exercise9: Set Mutations\n",
    "#n = input()\n",
    "set_1 = set(map(int, input().split()))\n",
    "for i in range(int(input())):\n",
    "    a = input().strip().split()\n",
    "    n_w = set(map(int, input().split()))\n",
    "    eval(\"set_1.\" + a[0] + \"( n_w )\")\n",
    "print(sum(set_1))"
   ]
  },
  {
   "cell_type": "code",
   "execution_count": null,
   "id": "9bcf04d2",
   "metadata": {},
   "outputs": [],
   "source": [
    "#Exercise10: The Captain's Room\n",
    "c = dict()\n",
    "#n = input()\n",
    "number = input().split()\n",
    "for i in number:\n",
    "    if i not in c:\n",
    "        c[i] = 1\n",
    "    else:\n",
    "        c[i] += 1\n",
    "for i in c:\n",
    "    if c[i] == 1:\n",
    "        print(i)"
   ]
  },
  {
   "cell_type": "code",
   "execution_count": null,
   "id": "68259876",
   "metadata": {},
   "outputs": [],
   "source": [
    "#Exercise11: Check Subset (the solution has been seen online)\n",
    "for i in range(int(input())):\n",
    "    a = int(input()) ; A = set(input().split())\n",
    "    b = int(input()) ; B = set(input().split())\n",
    "    if (len(A.difference(B))==0):\n",
    "        print(\"True\")\n",
    "    else:\n",
    "        print(\"False\")"
   ]
  },
  {
   "cell_type": "code",
   "execution_count": null,
   "id": "12e3d19f",
   "metadata": {},
   "outputs": [],
   "source": [
    "#Exercise12: Check Strict Superset\n",
    "a = set(input().split())\n",
    "n = int(input())\n",
    "print(all(a>set(input().split()) for i in range (n)))"
   ]
  },
  {
   "cell_type": "code",
   "execution_count": null,
   "id": "09285706",
   "metadata": {},
   "outputs": [],
   "source": [
    "#Exercise13: NO Idea! not done"
   ]
  },
  {
   "cell_type": "code",
   "execution_count": null,
   "id": "c41afa0c",
   "metadata": {},
   "outputs": [],
   "source": [
    "#Collections"
   ]
  },
  {
   "cell_type": "code",
   "execution_count": null,
   "id": "de1d4d57",
   "metadata": {},
   "outputs": [],
   "source": [
    "#Exercise1: collections.Counter()\n",
    "from collections import Counter\n",
    "import collections\n",
    "number_shoes = int(input())\n",
    "shoes = collections.Counter(map(int, input().split()))\n",
    "number_customer = int(input())\n",
    "earned_money = 0\n",
    "for i in range(number_customer):\n",
    "    size, price = map(int, input().split())\n",
    "    if shoes[size]:\n",
    "        earned_money += price\n",
    "        shoes[size] -= 1\n",
    "print(earned_money)"
   ]
  },
  {
   "cell_type": "code",
   "execution_count": null,
   "id": "c6f8ad42",
   "metadata": {},
   "outputs": [],
   "source": [
    "#Exercise2: Default Dict Tutorial (the solution has been seen online)\n",
    "from collections import defaultdict\n",
    "d = defaultdict(list)\n",
    "n,m = map(int, input().split())\n",
    "x = []\n",
    "for i in range(1, n+m+1):\n",
    "    c = input()\n",
    "    if (i>n):\n",
    "        if(d[c] == []):\n",
    "            d[c].append(-1)\n",
    "            x.append(d[c])\n",
    "        else:\n",
    "            x.append(d[c])\n",
    "    else:\n",
    "        d[c].append(i)\n",
    "for i in range(m):\n",
    "    print(\" \".join(list(map(str, (x[i])))))"
   ]
  },
  {
   "cell_type": "code",
   "execution_count": null,
   "id": "d330addb",
   "metadata": {},
   "outputs": [],
   "source": [
    "#Exercise3: Collections.nametuple() \n",
    "N, headers, t = int(input()), list(input().split()), 0\n",
    "for i in range(N):\n",
    "    t += int(list(input().split())[headers.index('MARKS')])\n",
    "print(t/N)"
   ]
  },
  {
   "cell_type": "code",
   "execution_count": null,
   "id": "2d9549c8",
   "metadata": {},
   "outputs": [],
   "source": [
    "#Exercise4: Collections.OrderedDict()\n",
    "from collections import OrderedDict\n",
    "d = OrderedDict()\n",
    "for i in range (int(input())):\n",
    "    item, space, quantity = input().rpartition(' ')\n",
    "    d[item] = d.get(item, 0) + int(quantity)\n",
    "for item, quantity in d.items():\n",
    "    print(item, quantity)"
   ]
  },
  {
   "cell_type": "code",
   "execution_count": null,
   "id": "ed657b63",
   "metadata": {},
   "outputs": [],
   "source": [
    "#Exercise5: Collections.deque()\n",
    "from collections import deque\n",
    "d = deque()\n",
    "for i in range(int(input())):\n",
    "    o, v, *a = input().split() + ['']\n",
    "    eval(f'd.{o} ({v})')\n",
    "print(*d)"
   ]
  },
  {
   "cell_type": "code",
   "execution_count": null,
   "id": "d756a609",
   "metadata": {},
   "outputs": [],
   "source": [
    "#Exercise6: Company Logo not done"
   ]
  },
  {
   "cell_type": "code",
   "execution_count": null,
   "id": "66e4dee3",
   "metadata": {},
   "outputs": [],
   "source": [
    "#Exercise7: Piling up! not done"
   ]
  },
  {
   "cell_type": "code",
   "execution_count": null,
   "id": "6cfc2cd8",
   "metadata": {},
   "outputs": [],
   "source": [
    "#Exercise8: Word Order not done"
   ]
  },
  {
   "cell_type": "code",
   "execution_count": null,
   "id": "4e15dd3d",
   "metadata": {},
   "outputs": [],
   "source": [
    "#Data and Time"
   ]
  },
  {
   "cell_type": "code",
   "execution_count": null,
   "id": "07bca62e",
   "metadata": {},
   "outputs": [],
   "source": [
    "#Exercise1: Calendar Module\n",
    "import calendar\n",
    "n = input().split()\n",
    "mm = int(n[0])\n",
    "dd = int(n[1])\n",
    "yy = int(n[2])\n",
    "week_day = calendar.weekday(yy, mm, dd)\n",
    "if week_day == 0:\n",
    "    print(\"MONDAY\")\n",
    "elif week_day == 1:\n",
    "    print(\"TUESDAY\")\n",
    "elif week_day == 2:\n",
    "    print(\"WEDNESDAY\")\n",
    "elif week_day == 3:\n",
    "    print(\"THURSDAY\")\n",
    "elif week_day == 4:\n",
    "    print(\"FRIDAY\")\n",
    "elif week_day == 5:\n",
    "    print(\"SATURDAY\")\n",
    "elif week_day == 6:\n",
    "    print(\"SUNDAY\")"
   ]
  },
  {
   "cell_type": "code",
   "execution_count": null,
   "id": "0e4e7754",
   "metadata": {},
   "outputs": [],
   "source": [
    "#Exercise2: Time Delta not done"
   ]
  },
  {
   "cell_type": "code",
   "execution_count": null,
   "id": "7b16f6d1",
   "metadata": {},
   "outputs": [],
   "source": [
    "#Exeptions"
   ]
  },
  {
   "cell_type": "code",
   "execution_count": null,
   "id": "29ea7203",
   "metadata": {},
   "outputs": [],
   "source": [
    "#Exercise1: Exceptions\n",
    "for i in range(int(input())):\n",
    "    try:\n",
    "        a,b = map(int, input().split())\n",
    "        print(a//b)\n",
    "    except Exception as e:\n",
    "        print(\"Error Code:\", e)"
   ]
  },
  {
   "cell_type": "code",
   "execution_count": null,
   "id": "3db304b2",
   "metadata": {},
   "outputs": [],
   "source": [
    "#Zipped!"
   ]
  },
  {
   "cell_type": "code",
   "execution_count": null,
   "id": "6c1e4f3a",
   "metadata": {},
   "outputs": [],
   "source": [
    "#Excercise1: Zipped!\n",
    "x, y = map(int,input().split())\n",
    "s = []\n",
    "for i in range(y):\n",
    "    s.append(map(float, input().split()))\n",
    "for n in zip(*s):\n",
    "    print(sum(n)/len(n))"
   ]
  },
  {
   "cell_type": "code",
   "execution_count": null,
   "id": "19f12fac",
   "metadata": {},
   "outputs": [],
   "source": [
    "#Python sort sort"
   ]
  },
  {
   "cell_type": "code",
   "execution_count": null,
   "id": "fc953779",
   "metadata": {},
   "outputs": [],
   "source": [
    "#Exercise1: Athlete Sort (the solution has been seen online)\n",
    "import math\n",
    "import os\n",
    "import random\n",
    "import re\n",
    "import sys\n",
    "if __name__ == '__main__':\n",
    "    nm = input().split()\n",
    "    n = int(nm[0])\n",
    "    m = int(nm[1])\n",
    "    arr = []\n",
    "    for _ in range(n):\n",
    "        arr.append(list(map(int, input().rstrip().split())))\n",
    "    k = int(input())\n",
    "    x = sorted(arr, key = lambda row:row[k])\n",
    "    for i in range(len(x)):\n",
    "        for j in range(len(x[i])):\n",
    "            print(x[i][j], end=' ')\n",
    "        print()"
   ]
  },
  {
   "cell_type": "code",
   "execution_count": null,
   "id": "cc9e6d2f",
   "metadata": {},
   "outputs": [],
   "source": [
    "#ginortS"
   ]
  },
  {
   "cell_type": "code",
   "execution_count": null,
   "id": "00855f2a",
   "metadata": {},
   "outputs": [],
   "source": [
    "#Exercise1: ginortS\n",
    "x = input()\n",
    "x = sorted(x, key = lambda x:(x.isdigit() and int(x) % 2 == 0, x.isdigit(), x.isupper(), x.islower(), x))\n",
    "print(*(x),sep='')"
   ]
  },
  {
   "cell_type": "code",
   "execution_count": null,
   "id": "2d993080",
   "metadata": {},
   "outputs": [],
   "source": [
    "#Python Functionals"
   ]
  },
  {
   "cell_type": "code",
   "execution_count": null,
   "id": "d2b2e11c",
   "metadata": {},
   "outputs": [],
   "source": [
    "#Exercise1: Map and Lambda Function (the solution has been checked online)\n",
    "cube = lambda x: pow(x,3)\n",
    "def fibonacci(n):\n",
    "    # return a list of fibonacci numbers\n",
    "    l = [0,1]\n",
    "    for i in range(2,n):\n",
    "        l.append(l[i-2]+l[i-1])\n",
    "    return(l[0:n])\n",
    "if __name__ == '__main__':\n",
    "    n = int(input())\n",
    "    print(list(map(cube, fibonacci(n))))"
   ]
  },
  {
   "cell_type": "code",
   "execution_count": null,
   "id": "2415c801",
   "metadata": {},
   "outputs": [],
   "source": [
    "#Regex and Parsing challenges"
   ]
  },
  {
   "cell_type": "code",
   "execution_count": null,
   "id": "018cfbdf",
   "metadata": {},
   "outputs": [],
   "source": [
    "#Exercise1: Detecting Floating Point Number\n",
    "from re import match, compile\n",
    "a = compile('^[-+]?[0-9]*\\.[0-9]+$')\n",
    "for i in range(int(input())):\n",
    "    print(bool(a.match(input())))"
   ]
  },
  {
   "cell_type": "code",
   "execution_count": null,
   "id": "7476758c",
   "metadata": {},
   "outputs": [],
   "source": [
    "#Exercise2: Group(), Groups() and Groupdict()\n",
    "import re\n",
    "n = re.findall(r\"([A-Za-z0-9])\\1+\", input())\n",
    "if n:\n",
    "    print(n[0])\n",
    "else:\n",
    "    print(-1)"
   ]
  },
  {
   "cell_type": "code",
   "execution_count": null,
   "id": "5ac174a8",
   "metadata": {},
   "outputs": [],
   "source": [
    "#Exercise3: Re.findall() and Re.finditer() (the solution has been checked online)\n",
    "import re\n",
    "vowels = \"aeiou\"\n",
    "consonants = \"qzwsxdcrfvtgbyhnjmklp\"\n",
    "x = re.findall(r\"(?<=[%s])([%s]{2,})[%s]\" % (consonants, vowels, consonants), input(), flags = re.I)\n",
    "print('\\n'.join(x or ['-1']))"
   ]
  },
  {
   "cell_type": "code",
   "execution_count": null,
   "id": "98f5397b",
   "metadata": {},
   "outputs": [],
   "source": [
    "#Exercise4: Re.start() and Re.end() not done"
   ]
  },
  {
   "cell_type": "code",
   "execution_count": null,
   "id": "3a302ca5",
   "metadata": {},
   "outputs": [],
   "source": [
    "#Exercise5: Regex Substitution\n",
    "import re\n",
    "x = int(input())\n",
    "for i in range(0, x):\n",
    "    t = input()\n",
    "    t = re.sub(r\"\\ \\&\\&\\ \",\" and \", t)\n",
    "    t = re.sub(r\"\\ \\|\\|\\ \",\" or \", t)\n",
    "    t = re.sub(r\"\\ \\&\\&\\ \",\" and \",t)\n",
    "    t = re.sub(r\"\\ \\|\\|\\ \",\" or \", t)\n",
    "    print(t)"
   ]
  },
  {
   "cell_type": "code",
   "execution_count": null,
   "id": "1fa52568",
   "metadata": {},
   "outputs": [],
   "source": [
    "#Exercise6: Validating Roman Numerals not done"
   ]
  },
  {
   "cell_type": "code",
   "execution_count": null,
   "id": "1255b116",
   "metadata": {},
   "outputs": [],
   "source": [
    "#Exercise7: Validating phone numbers\n",
    "import re\n",
    "for i in range(int(input())):\n",
    "    if re.match(r'[789]\\d{9}$',input()):\n",
    "        print('YES')\n",
    "    else:\n",
    "        print('NO')"
   ]
  },
  {
   "cell_type": "code",
   "execution_count": null,
   "id": "cdbcd6a5",
   "metadata": {},
   "outputs": [],
   "source": [
    "#Exercise8: Validating and Parsing Email Addresses not done"
   ]
  },
  {
   "cell_type": "code",
   "execution_count": null,
   "id": "e2dca0e3",
   "metadata": {},
   "outputs": [],
   "source": [
    "#Exercise9: Hex Color Code not done"
   ]
  },
  {
   "cell_type": "code",
   "execution_count": null,
   "id": "d9a1d8a4",
   "metadata": {},
   "outputs": [],
   "source": [
    "#Exercise10: HTML Parser-Part1 not done"
   ]
  },
  {
   "cell_type": "code",
   "execution_count": null,
   "id": "a006f0d4",
   "metadata": {},
   "outputs": [],
   "source": [
    "#Exercise11: HTML Parser-Part2 not done"
   ]
  },
  {
   "cell_type": "code",
   "execution_count": null,
   "id": "e1f203ed",
   "metadata": {},
   "outputs": [],
   "source": [
    "#Exercise12: Detect HTML Tags, Attributes and Attribute Values not done"
   ]
  },
  {
   "cell_type": "code",
   "execution_count": null,
   "id": "9ae9c5a2",
   "metadata": {},
   "outputs": [],
   "source": [
    "#Exercise 13: Validating UID not done"
   ]
  },
  {
   "cell_type": "code",
   "execution_count": null,
   "id": "460f6487",
   "metadata": {},
   "outputs": [],
   "source": [
    "#Exercise14: Validating Credit Card Numbers not done"
   ]
  },
  {
   "cell_type": "code",
   "execution_count": null,
   "id": "3a6c000f",
   "metadata": {},
   "outputs": [],
   "source": [
    "#Exercise15: Validating Postal Codes not done"
   ]
  },
  {
   "cell_type": "code",
   "execution_count": null,
   "id": "7c017d0c",
   "metadata": {},
   "outputs": [],
   "source": [
    "#Exercise16: Matrix Script not done"
   ]
  },
  {
   "cell_type": "code",
   "execution_count": null,
   "id": "caf9a6fe",
   "metadata": {},
   "outputs": [],
   "source": [
    "#Exercise17: Re.split() not done"
   ]
  },
  {
   "cell_type": "code",
   "execution_count": null,
   "id": "60daa67d",
   "metadata": {},
   "outputs": [],
   "source": [
    "#XML"
   ]
  },
  {
   "cell_type": "code",
   "execution_count": null,
   "id": "63b33fed",
   "metadata": {},
   "outputs": [],
   "source": [
    "#Exercise1: XML 1 - Find the Score\n",
    "import sys\n",
    "import xml.etree.ElementTree as etree\n",
    "def get_attr_number(node):\n",
    "    # your code goes here\n",
    "    return len(node.attrib) + sum(get_attr_number(child) for child in node);\n",
    "if __name__ == '__main__':\n",
    "    sys.stdin.readline()\n",
    "    xml = sys.stdin.read()\n",
    "    tree = etree.ElementTree(etree.fromstring(xml))\n",
    "    root = tree.getroot()\n",
    "    print(get_attr_number(root))"
   ]
  },
  {
   "cell_type": "code",
   "execution_count": null,
   "id": "2088d4ae",
   "metadata": {},
   "outputs": [],
   "source": [
    "#Exercise2: XML 2 - Find the Maximum Depth (the solution has been checked online)\n",
    "import xml.etree.ElementTree as etree\n",
    "maxdepth = 0\n",
    "def depth(elem, level):\n",
    "    global maxdepth\n",
    "    # your code goes here\n",
    "    if (level == maxdepth):\n",
    "        maxdepth += 1\n",
    "    for child in elem:\n",
    "        depth(child, level +1)\n",
    "if __name__ == '__main__':\n",
    "    n = int(input())\n",
    "    xml = \"\"\n",
    "    for i in range(n):\n",
    "        xml =  xml + input() + \"\\n\"\n",
    "    tree = etree.ElementTree(etree.fromstring(xml))\n",
    "    depth(tree.getroot(), -1)\n",
    "    print(maxdepth)"
   ]
  },
  {
   "cell_type": "code",
   "execution_count": null,
   "id": "2723aad7",
   "metadata": {},
   "outputs": [],
   "source": [
    "#Closures and Decorations"
   ]
  },
  {
   "cell_type": "code",
   "execution_count": null,
   "id": "c4be81f9",
   "metadata": {},
   "outputs": [],
   "source": [
    "#Exercise1: Satndardize Moile Number Using Decorators\n",
    "def wrapper(f):\n",
    "    def fun(l):\n",
    "        # complete the function\n",
    "        f([\"+91 \" + c[-10:-5] + \" \" + c[-5:] for c in l])\n",
    "    return fun\n",
    "@wrapper\n",
    "def sort_phone(l):\n",
    "    print(*sorted(l), sep='\\n')\n",
    "if __name__ == '__main__':\n",
    "    l = [input() for _ in range(int(input()))]\n",
    "    sort_phone(l)"
   ]
  },
  {
   "cell_type": "code",
   "execution_count": null,
   "id": "2bc8cf4b",
   "metadata": {},
   "outputs": [],
   "source": [
    "#Exercise2: Decorators 2 - Name Directory not done"
   ]
  },
  {
   "cell_type": "code",
   "execution_count": null,
   "id": "25886fe6",
   "metadata": {},
   "outputs": [],
   "source": [
    "#Numpy"
   ]
  },
  {
   "cell_type": "code",
   "execution_count": null,
   "id": "f3e56610",
   "metadata": {},
   "outputs": [],
   "source": [
    "#Exercise1: Arrays\n",
    "import numpy\n",
    "def arrays(arr):\n",
    "    return (numpy.array(arr[::-1], float))\n",
    "arr = input().strip().split(' ')\n",
    "result = arrays(arr)\n",
    "print(result)"
   ]
  },
  {
   "cell_type": "code",
   "execution_count": null,
   "id": "a09ea1e5",
   "metadata": {},
   "outputs": [],
   "source": [
    "#Exercise2: Transpose and Flatten\n",
    "import numpy\n",
    "n, m = map(int, input().split())\n",
    "arr = numpy.array([input().strip().split() for i in range (n)], int)\n",
    "print(numpy.transpose(arr))\n",
    "print(arr.flatten())"
   ]
  },
  {
   "cell_type": "code",
   "execution_count": null,
   "id": "c5ebb314",
   "metadata": {},
   "outputs": [],
   "source": [
    "#Exercise3: Concatenate\n",
    "import numpy\n",
    "n, m, p = map(int, input().split())\n",
    "arrA = numpy.array([input().split() for i in range(n)], int)\n",
    "arrB = numpy.array([input().split() for j in range (m)], int)\n",
    "arr_conc = numpy.concatenate((arrA, arrB), axis = 0)\n",
    "print(arr_conc)"
   ]
  },
  {
   "cell_type": "code",
   "execution_count": null,
   "id": "81340938",
   "metadata": {},
   "outputs": [],
   "source": [
    "#Exercise4: Zeros and Ones\n",
    "import numpy\n",
    "n = tuple(map(int, input().split()))\n",
    "zeros = numpy.zeros(n, dtype = int)\n",
    "ones = numpy.ones(n, dtype = int)\n",
    "print(zeros)\n",
    "print(ones)"
   ]
  },
  {
   "cell_type": "code",
   "execution_count": null,
   "id": "dbe99c68",
   "metadata": {},
   "outputs": [],
   "source": [
    "#Esercizio5: Eye and Identity\n",
    "import numpy\n",
    "arr = str(numpy.eye(*map(int, input().split()))).replace('1', ' 1').replace('0', ' 0')\n",
    "print(arr)"
   ]
  },
  {
   "cell_type": "code",
   "execution_count": null,
   "id": "917d8c69",
   "metadata": {},
   "outputs": [],
   "source": [
    "#Esercizio6: Array Mathematics\n",
    "import numpy\n",
    "n, m = map(int, input().split())\n",
    "arrA, arrB = (numpy.array([input().split() for i in range (n)], dtype = int) for j in range(2))\n",
    "print(arrA + arrB)\n",
    "print(arrA - arrB)\n",
    "print(arrA * arrB)\n",
    "print(arrA // arrB)\n",
    "print(arrA % arrB)\n",
    "print(arrA ** arrB)"
   ]
  },
  {
   "cell_type": "code",
   "execution_count": null,
   "id": "0438743b",
   "metadata": {},
   "outputs": [],
   "source": [
    "#Esercizio7: Floor, Ceil and Rint\n",
    "import numpy\n",
    "numpy.set_printoptions(legacy = '1.13')\n",
    "n = numpy.array(input().split(), float)\n",
    "a = numpy.floor(n)\n",
    "b = numpy.ceil(n)\n",
    "c = numpy.rint(n)\n",
    "print(a)\n",
    "print(b)\n",
    "print(c)"
   ]
  },
  {
   "cell_type": "code",
   "execution_count": null,
   "id": "d0b199ea",
   "metadata": {},
   "outputs": [],
   "source": [
    "#Esercizio8: Sum and Prod\n",
    "import numpy\n",
    "n, m = map(int, input().split())\n",
    "a = numpy.array([input().split() for i in range (n)], int)\n",
    "a_sum_prod = numpy.prod(numpy.sum(a, axis = 0), axis = 0)\n",
    "print(a_sum_prod)"
   ]
  },
  {
   "cell_type": "code",
   "execution_count": null,
   "id": "794c9b3c",
   "metadata": {},
   "outputs": [],
   "source": [
    "#Esercizio9: Min and Max\n",
    "import numpy\n",
    "n, m = map(int, input().split())\n",
    "l = [list(map(int, input().split())) for i in range(n)]\n",
    "arr = numpy.array(l)\n",
    "print(max(numpy.min(arr, axis = 1)))"
   ]
  },
  {
   "cell_type": "code",
   "execution_count": null,
   "id": "9117675a",
   "metadata": {},
   "outputs": [],
   "source": [
    "#Exercise10: Mean, Var, and Std not done"
   ]
  },
  {
   "cell_type": "code",
   "execution_count": null,
   "id": "4c12541c",
   "metadata": {},
   "outputs": [],
   "source": [
    "#Esercizio11: Dot and Cross\n",
    "import numpy\n",
    "n = int(input())\n",
    "x = numpy.array([input().split() for i in range(n)], int)\n",
    "y = numpy.array([input().split() for i in range(n)], int)\n",
    "a = numpy.dot(x,y)\n",
    "print(a)"
   ]
  },
  {
   "cell_type": "code",
   "execution_count": null,
   "id": "6b17db64",
   "metadata": {},
   "outputs": [],
   "source": [
    "#Exercise12: Inner and Outer not done"
   ]
  },
  {
   "cell_type": "code",
   "execution_count": null,
   "id": "d87a31d1",
   "metadata": {},
   "outputs": [],
   "source": [
    "#Exercise13: Polynomials not done"
   ]
  },
  {
   "cell_type": "code",
   "execution_count": null,
   "id": "f57399ed",
   "metadata": {},
   "outputs": [],
   "source": [
    "#Exercise14: Linear Algebra not done"
   ]
  },
  {
   "cell_type": "code",
   "execution_count": null,
   "id": "48695b35",
   "metadata": {},
   "outputs": [],
   "source": [
    "#Exercise15: Shape and Reshape not done"
   ]
  },
  {
   "cell_type": "code",
   "execution_count": null,
   "id": "333ddb44",
   "metadata": {},
   "outputs": [],
   "source": [
    "#Problem2"
   ]
  },
  {
   "cell_type": "code",
   "execution_count": null,
   "id": "69a2403c",
   "metadata": {},
   "outputs": [],
   "source": [
    "#Exercise1: Birthday cake candles\n",
    "import math\n",
    "import os\n",
    "import random\n",
    "import re\n",
    "import sys\n",
    "def birthdayCakeCandles(candles):\n",
    "    # Write your code here\n",
    "    x = 0\n",
    "    t = candles[0]\n",
    "    for i in range (1, len(candles)):\n",
    "        if candles[i]> t:\n",
    "            t = candles[i]\n",
    "    for i in range(0, len(candles)):\n",
    "        if candles[i] == t:\n",
    "            x = x + 1\n",
    "    return x\n",
    "if __name__ == '__main__':\n",
    "    fptr = open(os.environ['OUTPUT_PATH'], 'w')\n",
    "    candles_count = int(input().strip())\n",
    "    candles = list(map(int, input().rstrip().split()))\n",
    "    result = birthdayCakeCandles(candles)\n",
    "    fptr.write(str(result) + '\\n')\n",
    "    fptr.close()"
   ]
  },
  {
   "cell_type": "code",
   "execution_count": null,
   "id": "6503d2ab",
   "metadata": {},
   "outputs": [],
   "source": [
    "#Exercise2: Number Line Jumps\n",
    "import math\n",
    "import os\n",
    "import random\n",
    "import re\n",
    "import sys\n",
    "def kangaroo(x1, v1, x2, v2):\n",
    "    if x1<x2 and v1<v2:\n",
    "        return 'NO'\n",
    "    else:\n",
    "        if v1!=v2 and (x2-x1) % (v2-v1) == 0:\n",
    "            return 'YES'\n",
    "        else:\n",
    "            return 'NO'\n",
    "if __name__ == '__main__':\n",
    "    fptr = open(os.environ['OUTPUT_PATH'], 'w')\n",
    "    first_multiple_input = input().rstrip().split()\n",
    "    x1 = int(first_multiple_input[0])\n",
    "    v1 = int(first_multiple_input[1])\n",
    "    x2 = int(first_multiple_input[2])\n",
    "    v2 = int(first_multiple_input[3])\n",
    "    result = kangaroo(x1, v1, x2, v2)\n",
    "    fptr.write(result + '\\n')\n",
    "    fptr.close()\n"
   ]
  },
  {
   "cell_type": "code",
   "execution_count": null,
   "id": "f72b4317",
   "metadata": {},
   "outputs": [],
   "source": [
    "#Exercise3: Viral Advertising (the solution has been seen online)\n",
    "import math\n",
    "import os\n",
    "import random\n",
    "import re\n",
    "import sys\n",
    "def viralAdvertising(n):\n",
    "    # Write your code here\n",
    "    s = 5\n",
    "    c = 0\n",
    "    for i in range(n):\n",
    "        liked = s//2\n",
    "        c += liked\n",
    "        s = liked*3\n",
    "    return c\n",
    "if __name__ == '__main__':\n",
    "    fptr = open(os.environ['OUTPUT_PATH'], 'w')\n",
    "    n = int(input().strip())\n",
    "    result = viralAdvertising(n)\n",
    "    fptr.write(str(result) + '\\n')\n",
    "    fptr.close()"
   ]
  },
  {
   "cell_type": "code",
   "execution_count": null,
   "id": "0ff775f1",
   "metadata": {},
   "outputs": [],
   "source": [
    "#Exercise4: Recursive Digit Sum\n",
    "import math\n",
    "import os\n",
    "import random\n",
    "import re\n",
    "import sys\n",
    "def superDigit(n, k):\n",
    "    # Write your code here\n",
    "    d = map(int, list(n))\n",
    "    return g_sup_digit(str(sum(d)*k))\n",
    "def g_sup_digit(p):\n",
    "    if len(p) == 1:\n",
    "        return int(p)\n",
    "    else:\n",
    "        d = map(int, list(p))\n",
    "        return g_sup_digit(str(sum(d)))\n",
    "if __name__ == '__main__':\n",
    "    fptr = open(os.environ['OUTPUT_PATH'], 'w')\n",
    "    first_multiple_input = input().rstrip().split()\n",
    "    n = first_multiple_input[0]\n",
    "    k = int(first_multiple_input[1])\n",
    "    result = superDigit(n, k)\n",
    "    fptr.write(str(result) + '\\n')\n",
    "    fptr.close()"
   ]
  },
  {
   "cell_type": "code",
   "execution_count": null,
   "id": "ce00f870",
   "metadata": {},
   "outputs": [],
   "source": [
    "#Exercise5: Insertionsort1 not done"
   ]
  },
  {
   "cell_type": "code",
   "execution_count": null,
   "id": "04dbb3d3",
   "metadata": {},
   "outputs": [],
   "source": [
    "#Exercise6: Insertionsort2 not done"
   ]
  }
 ],
 "metadata": {
  "kernelspec": {
   "display_name": "Python 3 (ipykernel)",
   "language": "python",
   "name": "python3"
  },
  "language_info": {
   "codemirror_mode": {
    "name": "ipython",
    "version": 3
   },
   "file_extension": ".py",
   "mimetype": "text/x-python",
   "name": "python",
   "nbconvert_exporter": "python",
   "pygments_lexer": "ipython3",
   "version": "3.11.4"
  }
 },
 "nbformat": 4,
 "nbformat_minor": 5
}
